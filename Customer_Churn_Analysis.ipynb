{
 "cells": [
  {
   "cell_type": "markdown",
   "metadata": {},
   "source": [
    "# Customer Churn End-to-End Analysis"
   ]
  },
  {
   "cell_type": "markdown",
   "metadata": {},
   "source": [
    "### 1. Data Loading and Initial Exploration"
   ]
  },
  {
   "cell_type": "code",
   "execution_count": null,
   "metadata": {},
   "outputs": [],
   "source": [
    "import pandas as pd\n",
    "import numpy as np\n",
    "import matplotlib.pyplot as plt\n",
    "import seaborn as sns\n",
    "from sklearn.preprocessing import MinMaxScaler\n",
    "\n",
    "# Load the dataset\n",
    "df = pd.read_csv('Customer Churn.csv')\n",
    "\n",
    "# Display the first few rows\n",
    "df.head()"
   ]
  },
  {
   "cell_type": "code",
   "execution_count": null,
   "metadata": {},
   "outputs": [],
   "source": [
    "# Get a concise summary of the dataframe and check for missing values\n",
    "print(\"--- Data Info ---\")\n",
    "df.info()\n",
    "\n",
    "print(\"\\n--- Initial Missing Values Check ---\")\n",
    "print(df.isnull().sum())"
   ]
  },
  {
   "cell_type": "markdown",
   "metadata": {},
   "source": [
    "### 2. Data Cleaning and Preparation"
   ]
  },
  {
   "cell_type": "code",
   "execution_count": null,
   "metadata": {},
   "outputs": [],
   "source": [
    "# The 'TotalCharges' column is an object type and contains empty strings. \n",
    "# These likely correspond to new customers with 0 tenure.\n",
    "# Convert empty strings to NaN and then fill with 0.\n",
    "df['TotalCharges'] = pd.to_numeric(df['TotalCharges'], errors='coerce')\n",
    "df['TotalCharges'].fillna(0, inplace=True)\n",
    "\n",
    "# Verify the change\n",
    "print(\"--- Missing values after cleaning TotalCharges ---\")\n",
    "print(df.isnull().sum())\n",
    "\n",
    "print(\"\\n--- Data type of TotalCharges after cleaning ---\")\n",
    "print(df['TotalCharges'].dtype)"
   ]
  },
  {
   "cell_type": "code",
   "execution_count": null,
   "metadata": {},
   "outputs": [],
   "source": [
    "# The 'SeniorCitizen' column is numerical (0/1), let's map it to 'No'/'Yes' for clarity in plots.\n",
    "df['SeniorCitizen'] = df['SeniorCitizen'].map({0: 'No', 1: 'Yes'})\n",
    "\n",
    "# Display a value count to confirm the change\n",
    "df['SeniorCitizen'].value_counts()"
   ]
  },
  {
   "cell_type": "markdown",
   "metadata": {},
   "source": [
    "### 3. Exploratory Data Analysis (EDA) & Visualization"
   ]
  },
  {
   "cell_type": "markdown",
   "metadata": {},
   "source": [
    "#### Overall Churn Rate"
   ]
  },
  {
   "cell_type": "code",
   "execution_count": null,
   "metadata": {},
   "outputs": [],
   "source": [
    "plt.figure(figsize=(5, 5))\n",
    "churn_counts = df['Churn'].value_counts()\n",
    "plt.pie(churn_counts, labels=churn_counts.index, autopct='%1.1f%%', startangle=90, colors=['#1f77b4', '#ff7f0e'])\n",
    "plt.title('Percentage of Churned Customers')\n",
    "plt.ylabel('')\n",
    "plt.show()"
   ]
  },
  {
   "cell_type": "markdown",
   "metadata": {},
   "source": [
    "**Insight**: About 26.5% of customers have churned, which is a substantial number to investigate."
   ]
  },
  {
   "cell_type": "markdown",
   "metadata": {},
   "source": [
    "#### Churn by Demographics (Gender & Senior Citizen)"
   ]
  },
  {
   "cell_type": "code",
   "execution_count": null,
   "metadata": {},
   "outputs": [],
   "source": [
    "total_counts = df.groupby('SeniorCitizen')['Churn'].value_counts(normalize=True).unstack() * 100\n",
    "\n",
    "# Plotting\n",
    "fig, ax = plt.subplots(figsize=(6, 5))\n",
    "total_counts.plot(kind='bar', stacked=True, ax=ax, color=['#1f77b4', '#ff7f0e'])\n",
    "\n",
    "# Add percentage labels\n",
    "for p in ax.patches:\n",
    "    width, height = p.get_width(), p.get_height()\n",
    "    x, y = p.get_xy()\n",
    "    if height > 0:\n",
    "        ax.text(x + width / 2, y + height / 2, f'{height:.1f}%', ha='center', va='center', color='white', fontweight='bold')\n",
    "\n",
    "plt.title('Churn Rate by Senior Citizen Status')\n",
    "plt.xlabel('Senior Citizen')\n",
    "plt.ylabel('Percentage (%)')\n",
    "plt.xticks(rotation=0)\n",
    "plt.legend(title='Churn')\n",
    "plt.show()"
   ]
  },
  {
   "cell_type": "markdown",
   "metadata": {},
   "source": [
    "**Insight**: Senior citizens have a significantly higher churn rate (41.7%) compared to non-seniors (23.6%)."
   ]
  },
  {
   "cell_type": "markdown",
   "metadata": {},
   "source": [
    "#### Churn by Contract Type"
   ]
  },
  {
   "cell_type": "code",
   "execution_count": null,
   "metadata": {},
   "outputs": [],
   "source": [
    "plt.figure(figsize=(7, 5))\n",
    "ax = sns.countplot(x=\"Contract\", data=df, hue=\"Churn\")\n",
    "plt.title(\"Churn Rate by Contract Type\")\n",
    "plt.show()"
   ]
  },
  {
   "cell_type": "markdown",
   "metadata": {},
   "source": [
    "**Insight**: Customers with month-to-month contracts churn at a much higher rate than those with one or two-year contracts. This highlights the importance of long-term contracts for customer retention."
   ]
  },
  {
   "cell_type": "markdown",
   "metadata": {},
   "source": [
    "#### Churn by Tenure"
   ]
  },
  {
   "cell_type": "code",
   "execution_count": null,
   "metadata": {},
   "outputs": [],
   "source": [
    "plt.figure(figsize=(10, 5))\n",
    "sns.histplot(data=df, x='tenure', hue='Churn', multiple='stack', bins=30, kde=False)\n",
    "plt.title('Churn Distribution by Customer Tenure')\n",
    "plt.xlabel('Tenure (Months)')\n",
    "plt.ylabel('Number of Customers')\n",
    "plt.show()"
   ]
  },
  {
   "cell_type": "markdown",
   "metadata": {},
   "source": [
    "**Insight**: Churn is heavily concentrated among new customers (low tenure). The longer a customer stays, the less likely they are to leave."
   ]
  },
  {
   "cell_type": "markdown",
   "metadata": {},
   "source": [
    "#### Churn by Payment Method"
   ]
  },
  {
   "cell_type": "code",
   "execution_count": null,
   "metadata": {},
   "outputs": [],
   "source": [
    "plt.figure(figsize = (8,5))\n",
    "ax = sns.countplot(x = \"PaymentMethod\", data = df, hue = \"Churn\")\n",
    "plt.title(\"Churn Rate by Payment Method\")\n",
    "plt.xticks(rotation = 45, ha='right')\n",
    "plt.show()"
   ]
  },
  {
   "cell_type": "markdown",
   "metadata": {},
   "source": [
    "**Insight**: Customers using Electronic checks are far more likely to churn. Promoting automatic payment methods could be a key retention strategy."
   ]
  },
  {
   "cell_type": "markdown",
   "metadata": {},
   "source": [
    "### 4. Data Normalization and Export for Power BI"
   ]
  },
  {
   "cell_type": "code",
   "execution_count": null,
   "metadata": {},
   "outputs": [],
   "source": [
    "# Create a copy for normalization to keep the original df intact\n",
    "df_normalized = df.copy()\n",
    "\n",
    "# Identify numerical columns for scaling\n",
    "numerical_cols = ['tenure', 'MonthlyCharges', 'TotalCharges']\n",
    "\n",
    "# Initialize the scaler\n",
    "scaler = MinMaxScaler()\n",
    "\n",
    "# Fit and transform the data\n",
    "df_normalized[numerical_cols] = scaler.fit_transform(df_normalized[numerical_cols])\n",
    "\n",
    "# Display the first few rows of the normalized data to verify\n",
    "print(\"--- First 5 rows of Normalized DataFrame ---\")\n",
    "df_normalized.head()"
   ]
  },
  {
   "cell_type": "code",
   "execution_count": null,
   "metadata": {},
   "outputs": [],
   "source": [
    "# Save the final cleaned and normalized dataframe to a CSV file\n",
    "output_filename = 'cleaned_normalized_churn_data.csv'\n",
    "df_normalized.to_csv(output_filename, index=False)\n",
    "\n",
    "print(f\"Successfully saved the cleaned and normalized data to '{output_filename}'\")"
   ]
  }
 ],
 "metadata": {
  "kernelspec": {
   "display_name": "Python 3",
   "language": "python",
   "name": "python3"
  },
  "language_info": {
   "codemirror_mode": {
    "name": "ipython",
    "version": 3
   },
   "file_extension": ".py",
   "mimetype": "text/x-python",
   "name": "python",
   "nbconvert_exporter": "python",
   "pygments_lexer": "ipython3",
   "version": "3.9.7"
  }
 },
 "nbformat": 4,
 "nbformat_minor": 4
}